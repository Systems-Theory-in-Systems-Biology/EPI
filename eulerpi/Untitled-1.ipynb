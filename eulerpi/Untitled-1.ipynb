{
 "cells": [
  {
   "cell_type": "code",
   "execution_count": 4,
   "metadata": {},
   "outputs": [
    {
     "name": "stderr",
     "output_type": "stream",
     "text": [
      "/tmp/ipykernel_184393/4072455146.py:16: RuntimeWarning: divide by zero encountered in log\n",
      "  return np.log(trafo_density_evaluation), evaluation_results\n"
     ]
    },
    {
     "name": "stdout",
     "output_type": "stream",
     "text": [
      "Explicit check time: 0.056420 seconds for 1000000 trials\n",
      "Direct log time: 0.845379 seconds for 1000000 trials\n",
      "vec check time: 1.698357 seconds for 1000000 trials\n"
     ]
    }
   ],
   "source": [
    "import numpy as np\n",
    "import timeit\n",
    "\n",
    "# Test setup\n",
    "trafo_density_evaluation = 0.0  # Example edge case value\n",
    "evaluation_results = \"example_results\"  # Example placeholder for results\n",
    "\n",
    "# First approach: explicit check\n",
    "def explicit_check():\n",
    "    if trafo_density_evaluation == 0:\n",
    "        return -np.inf, evaluation_results\n",
    "    return np.log(trafo_density_evaluation), evaluation_results\n",
    "\n",
    "# Second approach: direct log\n",
    "def direct_log():\n",
    "    return np.log(trafo_density_evaluation), evaluation_results\n",
    "\n",
    "# Timeit setup\n",
    "num_trials = 1000000  # Number of repetitions for timing\n",
    "\n",
    "# Timing the explicit check approach\n",
    "explicit_check_time = timeit.timeit(explicit_check, number=num_trials)\n",
    "\n",
    "# Timing the direct log approach\n",
    "direct_log_time = timeit.timeit(direct_log, number=num_trials)\n",
    "\n",
    "# Displaying results\n",
    "print(f\"Explicit check time: {explicit_check_time:.6f} seconds for {num_trials} trials\")\n",
    "print(f\"Direct log time: {direct_log_time:.6f} seconds for {num_trials} trials\")\n",
    "\n",
    "\n",
    "def vec_log():\n",
    "    res = np.log2(trafo_density_evaluation, out=np.zeros_like(trafo_density_evaluation, dtype=np.float64), where=(trafo_density_evaluation != 0))\n",
    "    return res\n",
    "\n",
    "vec_log_time = timeit.timeit(vec_log, number=num_trials)\n",
    "print(f\"vec check time: {vec_log_time:.6f} seconds for {num_trials} trials\")\n"
   ]
  },
  {
   "cell_type": "code",
   "execution_count": null,
   "metadata": {},
   "outputs": [],
   "source": []
  }
 ],
 "metadata": {
  "kernelspec": {
   "display_name": "Python 3",
   "language": "python",
   "name": "python3"
  },
  "language_info": {
   "codemirror_mode": {
    "name": "ipython",
    "version": 3
   },
   "file_extension": ".py",
   "mimetype": "text/x-python",
   "name": "python",
   "nbconvert_exporter": "python",
   "pygments_lexer": "ipython3",
   "version": "3.12.3"
  }
 },
 "nbformat": 4,
 "nbformat_minor": 2
}
