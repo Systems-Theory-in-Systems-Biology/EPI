{
 "cells": [
  {
   "attachments": {},
   "cell_type": "markdown",
   "metadata": {},
   "source": [
    "# Tutorial\n",
    "\n",
    "This tutorial provides a full walk-through on how to apply EPI to a\n",
    "example problem. We only assume that you already installed `eulerpi`. The\n",
    "tutorial is divided in four sections:\n",
    "\n",
    "1.  [Introduction](#introduction)\n",
    "2.  [Define your data](#define-your-data)\n",
    "3.  [Define your model](#define-your-model)\n",
    "4.  [Inference](#inference)\n",
    "\n",
    "Let\\'s start!"
   ]
  },
  {
   "attachments": {},
   "cell_type": "markdown",
   "metadata": {},
   "source": [
    "## Introduction\n",
    "\n",
    "EPI is an algorithm meant to solve stochastic inverse problems. Stochastic inverse problems arise in different contexts, but the main application is likely the parameter calibration task. Consider the following situation: we have a deterministic simuation model $s$ that maps parameters $q$ to model predictions (data) $s(q)=y$, but we don't know exactly what the correct parameters are. We have, however, some observations of the data $\\{y_i\\}$. We could try to find a set of parameters $\\{q_i\\}$ s.t. $s(q_i)=y_i$, but this seems unnecessarily tidious. Instead, we are going to assume the data points are independent samples from a random variable $\\mathcal{Y}$, i.e. $y_i \\overset{\\text{i.i.d.}}{\\sim}Y$. Instead of trying to find a set of parameters $\\{q_i\\}$ explaining the observations, we now try to find the distribution of the parameter random variable $\\mathcal{Q}$ that fulfills\n",
    "\\begin{equation}\n",
    "    s(\\mathcal{Q})=\\mathcal{Y}.\n",
    "\\end{equation}\n",
    "So the goal is to derive the parameter distribution $\\Phi_\\mathcal{Q}$ from the data distribution $\\Phi_\\mathcal{Y}$. This is the inverse of what our (forward) model is providing. To solve the inverse problem, EPI uses the multi-dimension transformation formula\n",
    "\\begin{equation}\n",
    "    \\Phi_\\mathcal{Q}(q) = \\Phi_\\mathcal{Y}(s(q)) \\left\\lvert\\frac{ds}{dq}(q)\\right\\rvert.\n",
    "\\end{equation}\n",
    "\n",
    "\n",
    "That's enough maths for now - let's take a look at an example! We start with something simple: the average temperatures in different locations, i.e. a model for the dependence of the temperature $y$ on the latitude $q$. In the real world, problems with a known continous data distribution are rare. Instead, we often rely on discrete measurements. Hence, EPI starts with discrete data points as input and derives a continous distribution using Kernel Density Estimation (KDE) techniques. From this data distribution the EPI algorithm derives the parameter distribution. To close the cycle between the data and parameters, we can again sample from this distribution and use the forward model to get a finite sample of the parameters.\n",
    "\n",
    "With this picture in mind, we can start to implement the temperature\n",
    "problem in `eulerpi`."
   ]
  },
  {
   "attachments": {},
   "cell_type": "markdown",
   "metadata": {},
   "source": [
    "### Define your data\n",
    "\n",
    "Your data needs to be stored in a `.csv` file in the following format:\n",
    "\n",
    "``` text\n",
    "datapoint_1_dim_1, datapoint_1_dim_2,..., datapoint_1_dim_N\n",
    "datapoint_2_dim_1, datapoint_2_dim_2,..., datapoint_2_dim_N\n",
    "...\n",
    "datapoint_M_dim_1, datapoint_M_dim_2,..., datapoint_M_dim_N\n",
    "```\n",
    "\n",
    "Each of the lines defines an N-dimensional datapoint. The `.csv` file will be loaded into an $\\mathrm{R}^{M \\times N}$ numpy array in EPI. Alternatively, you can provide an $\\mathrm{R}^{M \\times N}$ numpy array directly.\n",
    "\n",
    "In the following we will use the example data `TemperatureData.csv`. It has 455 datapoints with two dimensions each.\n",
    "Nonuniform data is not supported in EPI.\n",
    "Please download it from: [Download Temperature Data](https://systems-theory-in-systems-biology.github.io/EPI/_downloads/090dff47c31e511d0522cc9cc0cdb502/TemperatureData.csv) and make sure that it is located in the same path as this notebook. "
   ]
  },
  {
   "attachments": {},
   "cell_type": "markdown",
   "metadata": {},
   "source": [
    "### Define your model\n",
    "\n",
    "Next you need to define your model. The most basic way is to derive from\n",
    "the `eulerpi.core.model.Model` base class."
   ]
  },
  {
   "cell_type": "code",
   "execution_count": 3,
   "metadata": {},
   "outputs": [],
   "source": [
    "import importlib\n",
    "import jax.numpy as jnp\n",
    "import numpy as np\n",
    "from eulerpi.core.model import Model"
   ]
  },
  {
   "attachments": {},
   "cell_type": "markdown",
   "metadata": {},
   "source": [
    "A model inhereting from `Model` must implement the methods\n",
    "- `forward`\n",
    "- `jacobian`\n",
    "\n",
    "Additionally, the attributes \n",
    "- `param_dim`\n",
    "- `data_dim`\n",
    "- `PARAM_LIMITS`\n",
    "- `CENTRAL_PARAM`\n",
    "\n",
    "must be defined by the model.\n",
    "\n",
    "This provides the sampling algorithm with sensible starting values and boundary values for the parameters. The jacobian for the temperature model is derived analytically and implemented explicitly. Note that the model class has to be defined in its own file - in this case, copy the following code into a file with the name `temperature.py`."
   ]
  },
  {
   "cell_type": "code",
   "execution_count": 4,
   "metadata": {},
   "outputs": [],
   "source": [
    "from typing import Optional\n",
    "from eulerpi.core.model import Model\n",
    "import numpy as np\n",
    "import jax.numpy as jnp\n",
    "\n",
    "class Temperature(Model):\n",
    "\n",
    "    param_dim = 1\n",
    "    data_dim = 1\n",
    "\n",
    "    PARAM_LIMITS = np.array([[0, np.pi / 2]])\n",
    "    CENTRAL_PARAM = np.array([np.pi / 4.0])\n",
    "\n",
    "    def __init__(\n",
    "        self,\n",
    "        central_param: np.ndarray = CENTRAL_PARAM,\n",
    "        param_limits: np.ndarray = PARAM_LIMITS,\n",
    "        name: Optional[str] = None,\n",
    "        **kwargs,\n",
    "    ) -> None:\n",
    "        super().__init__(central_param, param_limits, name=name, **kwargs)\n",
    "\n",
    "    def forward(self, param):\n",
    "        low_T = -30.0\n",
    "        high_T = 30.0\n",
    "        res = jnp.array(\n",
    "            [low_T + (high_T - low_T) * jnp.cos(jnp.abs(param[0]))]\n",
    "        )\n",
    "        return res\n",
    "\n",
    "    def jacobian(self, param):\n",
    "        return jnp.array([60.0 * jnp.sin(jnp.abs(param[0]))])\n"
   ]
  },
  {
   "attachments": {},
   "cell_type": "markdown",
   "metadata": {},
   "source": [
    "### Using inference\n",
    "\n",
    "Now we can now use `eulerpi` to infer the parameter distribution from the data. By default, the `inference` method uses Markov chain Monte Carlo (MCMC) sampling (this can be changed using the inference_type argument). `inference` returns a tuple containing samples from the parameter Markov chain $q_i$, the corresponding data points $y_i = s(q_i)$, the estimated densities $\\Phi_Q (q_i)$ scaled by a constant $c$, and a `ResultManager` object that can be used to load and manipulate the results of EPI."
   ]
  },
  {
   "cell_type": "code",
   "execution_count": 5,
   "metadata": {},
   "outputs": [
    {
     "name": "stderr",
     "output_type": "stream",
     "text": [
      "100%|██████████| 2500/2500 [00:42<00:00, 58.38it/s]\n"
     ]
    }
   ],
   "source": [
    "from eulerpi.core.inference import inference\n",
    "from eulerpi.examples.temperature import Temperature # TODO\n",
    "\n",
    "# create a temperature model object\n",
    "model = Temperature()\n",
    "# run EPI\n",
    "overall_params, sim_results, density_evals, result_manager = inference(\n",
    "    model = model,\n",
    "    data = \"TemperatureData.csv\",\n",
    ")"
   ]
  },
  {
   "attachments": {},
   "cell_type": "markdown",
   "metadata": {},
   "source": [
    "While MCMC sampling works well in general, it is especially usefull in high-dimensional parameter spaces. `eulerpi` provides another way of performing inference which is more taylored to low- or ideally one-dimensional parameter spaces as we have for this model: dense grid evaluations. We can tell inference to use dense grid evaluations using the `inference_type` argument:\n"
   ]
  },
  {
   "cell_type": "code",
   "execution_count": 6,
   "metadata": {},
   "outputs": [],
   "source": [
    "from eulerpi.core.inference_types import InferenceType\n",
    "\n",
    "# run EPI with dense grid evaluations:\n",
    "overall_params, sim_results, density_evals, result_manager = inference(\n",
    "    model = model,\n",
    "    data = \"TemperatureData.csv\",\n",
    "    inference_type = InferenceType.DENSE_GRID,\n",
    "    run_name = \"dense_grid_run\",\n",
    "    num_grid_points = 100,\n",
    ")"
   ]
  },
  {
   "cell_type": "markdown",
   "metadata": {},
   "source": [
    "`eulerpi` creates a uniform grid specified by the parameter limits of the model with `num_grid_points` grid points. The variable `overall_params` now contains the parameter values of the grid. We used the argument `run_name` to tell `eulerpi` to not overwrite the results of the previous run, but to save the results in a different folder with the name `dense_grid_run` instead.\n",
    "\n",
    "### Loading inference results\n",
    "\n",
    "Depending on the complexity of your model the sampling can take a long time. Due to this reason, not only the final results but also intermediate sampling results are saved. You can find them in the folder `Applications/Temperature/`. Don't worry - we don't need to search for the files ourself. The class `ResultManager` takes care of this. To load back in the results of a previous inference run, we can use the following snippet:"
   ]
  },
  {
   "cell_type": "code",
   "execution_count": 7,
   "metadata": {},
   "outputs": [],
   "source": [
    "from eulerpi.core.result_manager import ResultManager\n",
    "\n",
    "# create a result manager object\n",
    "result_manager = ResultManager(\n",
    "    model_name = model.name,\n",
    "    run_name = \"dense_grid_run\",\n",
    "    slices = [np.array([0])],\n",
    ")\n",
    "    \n",
    "# save the results\n",
    "overall_params, sim_results, density_evals = result_manager.load_inference_results()"
   ]
  },
  {
   "cell_type": "markdown",
   "metadata": {},
   "source": [
    "The argument `run_name` is the name of the run you want to load - if no `run_name` was specified when calling inference, this is `default_run`. We'll come to slicing in a moment - notice for now the the `ResultManager` object needs to be given the information which parameters where inferred.\n",
    "\n",
    "### Plotting\n",
    "\n",
    "`eulerpi` provides some basic plotting functionality to visualize the inference results. The following snippet gives an example of this:"
   ]
  },
  {
   "cell_type": "code",
   "execution_count": 8,
   "metadata": {},
   "outputs": [
    {
     "data": {
      "text/plain": [
       "<Axes: >"
      ]
     },
     "execution_count": 8,
     "metadata": {},
     "output_type": "execute_result"
    },
    {
     "data": {
      "image/png": "[encoded data removed]",
      "text/plain": [
       "<Figure size 200x600 with 1 Axes>"
      ]
     },
     "metadata": {},
     "output_type": "display_data"
    },
    {
     "data": {
      "image/png": "[encoded data removed]",
      "text/plain": [
       "<Figure size 200x600 with 1 Axes>"
      ]
     },
     "metadata": {},
     "output_type": "display_data"
    }
   ],
   "source": [
    "from eulerpi.core.plotting import sample_violin_plot\n",
    "\n",
    "# plot the inferred parameter distribution\n",
    "sample_violin_plot(model)\n",
    "# plot the inferred data distribution\n",
    "sample_violin_plot(model, what_to_plot=\"data\")"
   ]
  },
  {
   "cell_type": "markdown",
   "metadata": {},
   "source": [
    "The two plots correspond to the inferred parameter distribution $\\hat{\\Phi}_{\\mathcal{Q}}$ and a KDE of the pushforward of the inferred sample, i.e. $s(\\hat{q_i})$. We will come back to the plotting function when we defined a more interesting model:\n",
    "\n",
    "## Advanced features\n",
    "### A more intricate model\n",
    "\n",
    "To make things a little more interesting, we will consider a simple model for infectious diseases. The model divides the population into four compartments - succeptible to the disease, exposed, infected, and removed. Hence, this type of model is often referred to as an SEIR model. The SEIR model is governed by the following set of equations:\n",
    "$$\n",
    "\\begin{aligned}\n",
    "    \\frac{d[S]}{dt}= & -q_1[S][I]\\\\\n",
    "    \\frac{d[E]}{dt}= & q_1[S][I] - q_2[E]\\\\\n",
    "    \\frac{d[I]}{dt}= & q_2[E]  - q_3[I]\\\\\n",
    "    \\frac{d[R]}{dt}= & q_3[I]\\\\\n",
    "\\end{aligned}\n",
    "$$\n",
    "The parameter $q_1$ corresponds to an infection rate, $q_2$ determines the timescale of the incubation period, and $q_3$ is the recovery rate. We aim to estimate these parameters based on time series data of the incidence, i.e. the evaluation of $I$ at certain time points $t_i$. An implementation of this model can be found in `eulerpi.examples.corona`:\n"
   ]
  },
  {
   "cell_type": "code",
   "execution_count": 10,
   "metadata": {},
   "outputs": [],
   "source": [
    "from eulerpi.core.model import JaxModel\n",
    "\n",
    "class Corona(JaxModel):\n",
    "    \"\"\" \"\"\"\n",
    "\n",
    "    param_dim = 3\n",
    "    data_dim = 4\n",
    "\n",
    "    PARAM_LIMITS = np.array([[-4.5, 0.5], [-2.0, 3.0], [-2.0, 3.0]])\n",
    "    CENTRAL_PARAM = np.array([-1.8, 0.0, 0.7])\n",
    "\n",
    "    def __init__(\n",
    "        self,\n",
    "        central_param: np.ndarray = CENTRAL_PARAM,\n",
    "        param_limits: np.ndarray = PARAM_LIMITS,\n",
    "        name: Optional[str] = None,\n",
    "        **kwargs,\n",
    "    ) -> None:\n",
    "        super().__init__(central_param, param_limits, name=name, **kwargs)\n",
    "\n",
    "    @classmethod\n",
    "    def forward(cls, log_param):\n",
    "        param = jnp.power(10, log_param)\n",
    "        xInit = jnp.array([999.0, 0.0, 1.0, 0.0])\n",
    "\n",
    "        def rhs(t, x, param):\n",
    "            return jnp.array(\n",
    "                [\n",
    "                    -param[0] * x[0] * x[2],\n",
    "                    param[0] * x[0] * x[2] - param[1] * x[1],\n",
    "                    param[1] * x[1] - param[2] * x[2],\n",
    "                    param[2] * x[2],\n",
    "                ]\n",
    "            )\n",
    "\n",
    "        term = dx.ODETerm(rhs)\n",
    "        solver = dx.Kvaerno5()\n",
    "        saveat = dx.SaveAt(ts=[0.0, 1.0, 2.0, 5.0, 15.0])\n",
    "        stepsize_controller = dx.PIDController(rtol=1e-5, atol=1e-5)\n",
    "\n",
    "        try:\n",
    "            ode_sol = dx.diffeqsolve(\n",
    "                term,\n",
    "                solver,\n",
    "                t0=0.0,\n",
    "                t1=15.0,\n",
    "                dt0=0.1,\n",
    "                y0=xInit,\n",
    "                args=param,\n",
    "                saveat=saveat,\n",
    "                stepsize_controller=stepsize_controller,\n",
    "            )\n",
    "            return ode_sol.ys[1:5, 2]\n",
    "\n",
    "        except Exception as e:\n",
    "            logger.warning(\"ODE solution not possible!\", exc_info=e)\n",
    "            return np.array([-np.inf, -np.inf, -np.inf, -np.inf])\n"
   ]
  },
  {
   "cell_type": "markdown",
   "metadata": {},
   "source": [
    "\n",
    "### Artificial data creation\n",
    "\n",
    "Sometimes, it is hard to tell if the stochastic inverse problem is even well-defined for a given problem - for instance, is the mapping $s$ defined by the evaluation of the SEIR model at four different time points bijective? `eulerpi` provides some tools to at least perform some sanity checks.\n",
    "\n",
    "One easy way to gain some understanding of the well-posedness of a given problem is to generate some artificial parameters $\\{q_i\\}$, and use the model to create artificial data $y_i = s(q_i)$ from these parameters. Then, calling `inference` on the artificial data and comparing the inference results to the original parameters should give us some intuition if the problem is roughly well-posed.\n",
    "\n",
    "We can use the abstract class `ArtificialModelInterface` to create an artificial model. For the SEIR model, this is implemented in `eulerpi.examples.corona` too:"
   ]
  },
  {
   "cell_type": "code",
   "execution_count": 12,
   "metadata": {},
   "outputs": [],
   "source": [
    "from eulerpi.core.model import ArtificialModelInterface\n",
    "\n",
    "class CoronaArtificial(Corona, ArtificialModelInterface):\n",
    "    PARAM_LIMITS = np.array([[-2.5, -1.0], [-0.75, 0.75], [0.0, 1.5]])\n",
    "\n",
    "    def __init__(\n",
    "        self,\n",
    "        central_param: np.ndarray = Corona.CENTRAL_PARAM,\n",
    "        param_limits: np.ndarray = PARAM_LIMITS,\n",
    "        name: Optional[str] = None,\n",
    "        **kwargs,\n",
    "    ) -> None:\n",
    "        super().__init__(central_param, param_limits, name=name, **kwargs)\n",
    "\n",
    "    def generate_artificial_params(self, num_samples):\n",
    "        lower_bound = np.array([-1.9, -0.1, 0.6])\n",
    "        upper_bound = np.array([-1.7, 0.1, 0.8])\n",
    "\n",
    "        true_param_sample = lower_bound + (\n",
    "            upper_bound - lower_bound\n",
    "        ) * np.random.rand(num_samples, 3)\n",
    "\n",
    "        return true_param_sample"
   ]
  },
  {
   "cell_type": "markdown",
   "metadata": {},
   "source": [
    "Using this, we can create some artificial data:"
   ]
  },
  {
   "cell_type": "code",
   "execution_count": 13,
   "metadata": {},
   "outputs": [],
   "source": [
    "from eulerpi.examples.corona import CoronaArtificial\n",
    "\n",
    "model = CoronaArtificial()\n",
    "\n",
    "corona_artificial_params = model.generate_artificial_params(1000)\n",
    "corona_artificial_data = model.generate_artificial_data(corona_artificial_params)"
   ]
  },
  {
   "cell_type": "markdown",
   "metadata": {},
   "source": [
    "### Marginal distributions and slicing\n",
    "\n",
    "As for virtually any method, the cost of estimating a high-dimensional joint multivariate distribution with EPI grows exponentially in the number of dimensions. `eulerpi` provides a possible remedy, if some parameter groupings are stochastically independent of each other. In this case, the marginal distributions of these groupings can be evaluated directly - we call this process *slicing*. We can use this feature by passing the parameter groupings, i.e. the slices, as an argument to the inference method:"
   ]
  },
  {
   "cell_type": "code",
   "execution_count": 14,
   "metadata": {},
   "outputs": [],
   "source": [
    "overall_params, sim_results, density_evals, result_manager = inference(\n",
    "    model = model,\n",
    "    data = corona_artificial_data,\n",
    "    inference_type = InferenceType.DENSE_GRID,\n",
    "    slices = [np.array([0, 1]), np.array([2])],\n",
    "    num_grid_points = 100,\n",
    ")"
   ]
  },
  {
   "cell_type": "markdown",
   "metadata": {},
   "source": [
    "The code snippet above corresponds to the assumption that the grouping $(\\mathcal{Q}_1,\\mathcal{Q}_2)$ is independent of $\\mathcal{Q}_3$ and computes the corresponding marginal distributions $\\phi_{\\mathcal{Q}_1, \\mathcal{Q}_2}$ and $\\phi_{\\mathcal{Q_3}}$."
   ]
  }
 ],
 "metadata": {
  "kernelspec": {
   "display_name": "eulerpi-VaQQ5sfP-py3.10",
   "language": "python",
   "name": "python3"
  },
  "language_info": {
   "codemirror_mode": {
    "name": "ipython",
    "version": 3
   },
   "file_extension": ".py",
   "mimetype": "text/x-python",
   "name": "python",
   "nbconvert_exporter": "python",
   "pygments_lexer": "ipython3",
   "version": "3.10.12"
  },
  "orig_nbformat": 4,
  "vscode": {
   "interpreter": {
    "hash": "42b2752a3dbae18c8c0b5227bcb491ccaa295e39fb9488759bcba272693a355d"
   }
  }
 },
 "nbformat": 4,
 "nbformat_minor": 2
}
