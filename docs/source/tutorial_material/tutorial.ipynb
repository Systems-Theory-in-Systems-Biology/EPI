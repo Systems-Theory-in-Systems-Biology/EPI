{
 "cells": [
  {
   "attachments": {},
   "cell_type": "markdown",
   "metadata": {},
   "source": [
    "# Tutorial\n",
    "\n",
    "This tutorial provides a full walk-through on how to apply EPI to a\n",
    "example problem. We only assume that you already installed `eulerpi`. The\n",
    "tutorial is divided in four sections:\n",
    "\n",
    "1.  [Introduction](#introduction)\n",
    "2.  [Define your data](#define-your-data)\n",
    "3.  [Define your model](#define-your-model)\n",
    "4.  [Inference](#inference)\n",
    "\n",
    "Let\\'s start!"
   ]
  },
  {
   "attachments": {},
   "cell_type": "markdown",
   "metadata": {},
   "source": [
    "Introduction\n",
    "------------\n",
    "\n",
    "EPI is an algorithm to infere a parameter distribution $Q$ satisfying\n",
    "$Y = s(Q)$ given a (discrete) data probability distribution $y_i \\sim Y$\n",
    "and a model implementing the mapping $s: Q \\to Y$. The (forward) model\n",
    "describes the mapping from the parameter points $q_i$ to the data points\n",
    "$y_i$.\n",
    "\n",
    "In the following we will look at temperature data over the globe and a\n",
    "model for the dependence of the temperature $y_i$ on the latitude $q_i$.\n",
    "\n",
    "The goal is to derive the parameter distribution $\\Phi_Q$ from the data\n",
    "distribution $\\Phi_Y$. This is the inverse of what our (forward) model\n",
    "is providing. To solve the inverse problem, EPI uses the multi-dimension\n",
    "transformation formula:\n",
    "\n",
    "In the real world, problems with a known continous data distribution are\n",
    "very sparse. Instead, we often rely on discrete measurements. EPI start\n",
    "with discrete data points as input and derives a continous distribution\n",
    "using Kernel Density Estimation (KDE) techniques. From this data\n",
    "distribution the EPI algorithm derives the parameter distribution. To\n",
    "close the cycle between the data and parameters, we can again sample\n",
    "from this distribution and use the forward model to get a discrete\n",
    "distribution of the parameters.\n",
    "\n",
    "With this picture in mind, we can start to implement the temperature\n",
    "problem in eulerpi."
   ]
  },
  {
   "attachments": {},
   "cell_type": "markdown",
   "metadata": {},
   "source": [
    "## Define your data\n",
    "Your data needs to be stored in a `.csv` file in the following format:\n",
    "\n",
    "``` text\n",
    "datapoint_dim1, datapoint_dim2, datapoint_dim3, ..., datapoint_dimN\n",
    "datapoint_dim1, datapoint_dim2, datapoint_dim3, ..., datapoint_dimN\n",
    "datapoint_dim1, datapoint_dim2, datapoint_dim3, ..., datapoint_dimN\n",
    "...\n",
    "datapoint_dim1, datapoint_dim2, datapoint_dim3, ..., datapoint_dimN\n",
    "```\n",
    "\n",
    "Each of the lines defines a N dimensional datapoint. The\n",
    "`.csv` file will be loaded into an\n",
    "$\\mathrm{R}^{M \\times N}$ numpy array in EPI. Alternatively, you can provide an $\\mathrm{R}^{M \\times N}$ numpy array directly.\n",
    "\n",
    "In the following we will use the example data `TemperatureData.csv`. It has 455 datapoints with two dimensions each.\n",
    "Nonuniform data is not supported in EPI.\n",
    "Please download it from: [Download Temperature Data](https://systems-theory-in-systems-biology.github.io/EPI/_downloads/090dff47c31e511d0522cc9cc0cdb502/TemperatureData.csv) and make sure that it is located in the same path as this notebook. "
   ]
  },
  {
   "attachments": {},
   "cell_type": "markdown",
   "metadata": {},
   "source": [
    "## Define your model\n",
    "\n",
    "Next you need to define your model. The most basic way is to derive from\n",
    "the `eulerpi.core.models.BaseModel` class."
   ]
  },
  {
   "cell_type": "code",
   "execution_count": null,
   "metadata": {},
   "outputs": [],
   "source": [
    "import importlib\n",
    "import jax.numpy as jnp\n",
    "import numpy as np\n",
    "from eulerpi.core.models import BaseModel"
   ]
  },
  {
   "attachments": {},
   "cell_type": "markdown",
   "metadata": {},
   "source": [
    "A model inhereting from `BaseModel` must implement the methods\n",
    "- `forward`\n",
    "- `jacobian`\n",
    "\n",
    "Additionally, the attributes \n",
    "- `param_dim`\n",
    "- `data_dim`\n",
    "- `PARAM_LIMITS`\n",
    "- `CENTRAL_PARAM`\n",
    "\n",
    "must be defined by the model.\n",
    "\n",
    "This provides the sampling algorithm with sensible starting values and boundary values. The jacobian for the temperature model is derived analytically and implemented explicitly. Note that the model class has to be defined in its own file - in this case, copy the following code into a file with the name `temperature.py`."
   ]
  },
  {
   "cell_type": "code",
   "execution_count": null,
   "metadata": {},
   "outputs": [],
   "source": [
    "from typing import Optional\n",
    "\n",
    "import jax.numpy as jnp\n",
    "import numpy as np\n",
    "\n",
    "from eulerpi.core.models import BaseModel\n",
    "\n",
    "\n",
    "class Temperature(BaseModel):\n",
    "\n",
    "    param_dim = 1\n",
    "    data_dim = 1\n",
    "\n",
    "    PARAM_LIMITS = np.array([[0, np.pi / 2]])\n",
    "    CENTRAL_PARAM = np.array([np.pi / 4.0])\n",
    "\n",
    "    def __init__(\n",
    "        self,\n",
    "        central_param: np.ndarray = CENTRAL_PARAM,\n",
    "        param_limits: np.ndarray = PARAM_LIMITS,\n",
    "        name: Optional[str] = None,\n",
    "        **kwargs,\n",
    "    ) -> None:\n",
    "        super().__init__(central_param, param_limits, name=name, **kwargs)\n",
    "\n",
    "    def forward(self, param):\n",
    "        low_T = -30.0\n",
    "        high_T = 30.0\n",
    "        res = jnp.array(\n",
    "            [low_T + (high_T - low_T) * jnp.cos(jnp.abs(param[0]))]\n",
    "        )\n",
    "        return res\n",
    "\n",
    "    def jacobian(self, param):\n",
    "        return jnp.array([60.0 * jnp.sin(jnp.abs(param[0]))])"
   ]
  },
  {
   "attachments": {},
   "cell_type": "markdown",
   "metadata": {},
   "source": [
    "## Inference\n",
    "\n",
    "Now we can now use EPI to infer the parameter distribution from the data.By default, the `inference` method uses Markov chain Monte Carlo sampling (this can be changed using the inference_type argument). `inference` returns a tuple containing samples from the parameter Markov chain $y_i$, the corresponding data points $q_i = s(y_i)$, the estimated densities $\\Phi_Q (q_i)$ scaled by a constant $c$, and a `ResultManager` object that can be used to load and manipulate the results of EPI."
   ]
  },
  {
   "cell_type": "code",
   "execution_count": null,
   "metadata": {},
   "outputs": [],
   "source": [
    "from eulerpi.core.inference import inference\n",
    "from temperature import Temperature\n",
    "\n",
    "# create a temperature model object\n",
    "model = Temperature()\n",
    "# run EPI\n",
    "overall_params, sim_results, density_evals, result_manager = inference(\n",
    "    model = model,\n",
    "    data = \"TemperatureData.csv\",\n",
    ")"
   ]
  },
  {
   "attachments": {},
   "cell_type": "markdown",
   "metadata": {},
   "source": [
    "Depending on the complexity of your model the sampling can take a long time. Due to this reason, not only the final results but also intermediate sampling results are saved. You can find them in the folder `Applications/Temperature/`."
   ]
  }
 ],
 "metadata": {
  "kernelspec": {
   "display_name": "eulerpi-VaQQ5sfP-py3.10",
   "language": "python",
   "name": "python3"
  },
  "language_info": {
   "codemirror_mode": {
    "name": "ipython",
    "version": 3
   },
   "file_extension": ".py",
   "mimetype": "text/x-python",
   "name": "python",
   "nbconvert_exporter": "python",
   "pygments_lexer": "ipython3",
   "version": "3.10.15"
  },
  "orig_nbformat": 4,
  "vscode": {
   "interpreter": {
    "hash": "42b2752a3dbae18c8c0b5227bcb491ccaa295e39fb9488759bcba272693a355d"
   }
  }
 },
 "nbformat": 4,
 "nbformat_minor": 2
}
